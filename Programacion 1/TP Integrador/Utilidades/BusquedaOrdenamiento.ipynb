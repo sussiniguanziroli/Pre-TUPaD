{
  "nbformat": 4,
  "nbformat_minor": 0,
  "metadata": {
    "colab": {
      "provenance": []
    },
    "kernelspec": {
      "name": "python3",
      "display_name": "Python 3"
    },
    "language_info": {
      "name": "python"
    }
  },
  "cells": [
    {
      "cell_type": "markdown",
      "source": [
        "# Clase de Programación: Búsquedas y Ordenamiento en Python\n",
        "Algoritmos de Búsqueda\n",
        "#### Búsqueda Lineal\n",
        "Esta busqueda es aquella que tal vez surgiria naturalmente por logica. Método simple que revisa cada elemento de la lista."
      ],
      "metadata": {
        "id": "iaTCzGLnsrmA"
      }
    },
    {
      "cell_type": "code",
      "execution_count": null,
      "metadata": {
        "id": "6FibooUMskKu"
      },
      "outputs": [],
      "source": [
        "def busqueda_lineal(lista, objetivo):\n",
        "    for i in range(len(lista)):\n",
        "        if lista[i] == objetivo:\n",
        "            return i\n",
        "    return -1"
      ]
    },
    {
      "cell_type": "markdown",
      "source": [
        "Este codigo es funcional pero poco eficiente, tardaria mucho tiempo en buscar un valor dentro de una lista larga por ejemplo.\n",
        "Probemos este metodo y veamos cuanto tiempo tardaria."
      ],
      "metadata": {
        "id": "HJJjrWDltDvG"
      }
    },
    {
      "cell_type": "code",
      "source": [
        "import time\n",
        "import random\n",
        "tamaño_lista = 1000000\n",
        "lista = random.sample(range(1, 10000000), tamaño_lista)  # Lista de números únicos\n",
        "\n",
        "\n",
        "# Elegir un objetivo aleatorio\n",
        "objetivo = random.choice(lista)\n",
        "\n",
        "# Medir tiempo de búsqueda lineal\n",
        "inicio_lineal = time.time()\n",
        "resultado_lineal = busqueda_lineal(lista, objetivo)\n",
        "fin_lineal = time.time()\n",
        "tiempo_lineal = fin_lineal - inicio_lineal\n",
        "print(f\"Búsqueda Lineal: Resultado = {resultado_lineal}, Tiempo = {tiempo_lineal:.6f} segundos\")\n"
      ],
      "metadata": {
        "colab": {
          "base_uri": "https://localhost:8080/"
        },
        "id": "DCowQgTPtDTn",
        "outputId": "d060ae8c-9d45-41c8-f779-ee96ea6c9707"
      },
      "execution_count": null,
      "outputs": [
        {
          "output_type": "stream",
          "name": "stdout",
          "text": [
            "Búsqueda Lineal: Resultado = 934722, Tiempo = 0.057094 segundos\n"
          ]
        }
      ]
    },
    {
      "cell_type": "markdown",
      "source": [
        "### **Complejidad temporal:**\n",
        "\n",
        "* **Peor caso:** O(n), donde n es el número de elementos en la lista. Esto ocurre cuando el elemento buscado está al final de la lista o no está presente.\n",
        "\n",
        "* **Mejor caso:** O(1), cuando el elemento buscado es el primero de la lista.\n",
        "\n",
        "* **Caso promedio:** O(n), porque en promedio se recorren la mitad de los elementos."
      ],
      "metadata": {
        "id": "pWknrdLjRX6S"
      }
    },
    {
      "cell_type": "markdown",
      "source": [
        "### Busqueda binaria\n",
        "Método eficiente que requiere que la lista esté ordenada. Esto quiere decir que la lista tiene que ser ordernada primero.<br>\n",
        "Funciona dividiendo repetidamente la lista en dos mitades y comparando el elemento buscado con el elemento central.\n",
        "Si el elemento buscado es menor que el central, se descarta la mitad derecha; si es mayor, se descarta la mitad izquierda."
      ],
      "metadata": {
        "id": "JKXHfVNrtyCs"
      }
    },
    {
      "cell_type": "code",
      "source": [
        "def busqueda_binaria(lista, objetivo):\n",
        "    izquierda, derecha = 0, len(lista) - 1\n",
        "    while izquierda <= derecha:\n",
        "        medio = (izquierda + derecha) // 2\n",
        "        if lista[medio] == objetivo:\n",
        "            return medio\n",
        "        elif lista[medio] < objetivo:\n",
        "            izquierda = medio + 1\n",
        "        else:\n",
        "            derecha = medio - 1\n",
        "    return -1"
      ],
      "metadata": {
        "id": "jFirnbjcteYv"
      },
      "execution_count": null,
      "outputs": []
    },
    {
      "cell_type": "markdown",
      "source": [
        "Comparemos cuanto tardaria en buscar algo dentro de una lista ordenada."
      ],
      "metadata": {
        "id": "Sp9dvggVuGAv"
      }
    },
    {
      "cell_type": "code",
      "source": [
        "lista_ordenada = sorted(lista)  # Lista ordenada para búsqueda binaria\n",
        "# Medir tiempo de búsqueda binaria\n",
        "inicio_binaria = time.time()\n",
        "resultado_binaria = busqueda_binaria(lista_ordenada, objetivo)\n",
        "fin_binaria = time.time()\n",
        "tiempo_binaria = fin_binaria - inicio_binaria\n",
        "\n",
        "# Resultados\n",
        "print(f\"Búsqueda Lineal: Resultado = {resultado_lineal}, Tiempo = {tiempo_lineal:.6f} segundos\")\n",
        "\n",
        "print(f\"Búsqueda Binaria: Resultado = {resultado_binaria}, Tiempo = {tiempo_binaria:.6f} segundos\")"
      ],
      "metadata": {
        "colab": {
          "base_uri": "https://localhost:8080/"
        },
        "id": "bH7Py4_CuLau",
        "outputId": "83553416-f7e5-4fe7-b93b-ee465b573f09"
      },
      "execution_count": null,
      "outputs": [
        {
          "output_type": "stream",
          "name": "stdout",
          "text": [
            "Búsqueda Lineal: Resultado = 934722, Tiempo = 0.057094 segundos\n",
            "Búsqueda Binaria: Resultado = 96090, Tiempo = 0.000128 segundos\n"
          ]
        }
      ]
    },
    {
      "cell_type": "markdown",
      "source": [
        "Como podemos esperar la busqueda binaria tuvo una mejora considerable en el tiempo que necesito para buscar este valor."
      ],
      "metadata": {
        "id": "U0nnbl74ujax"
      }
    },
    {
      "cell_type": "markdown",
      "source": [
        "###  **Complejidad temporal:**\n",
        "\n",
        "  * **Peor caso:** O(log n), donde n es el número de elementos en la lista. Esto ocurre cuando el elemento no está presente o está en una de las divisiones finales.\n",
        "\n",
        "  * **Mejor caso:** O(1), cuando el elemento buscado está justo en el centro de la lista.\n",
        "\n",
        "  * **Caso promedio:** O(log n), porque el algoritmo divide la lista en mitades en cada iteración."
      ],
      "metadata": {
        "id": "PMcYh35HR3x-"
      }
    },
    {
      "cell_type": "markdown",
      "source": [
        "### ORDENAMIENTO\n",
        "El ordenamiento es un proceso fundamental en programación que consiste en organizar un conjunto de elementos (números, letras, objetos) siguiendo un criterio específico, como de menor a mayor o de mayor a menor. Esta tarea puede parecer simple, pero es esencial para muchas aplicaciones, desde la búsqueda de información hasta la visualización de datos."
      ],
      "metadata": {
        "id": "9L710961s02Q"
      }
    },
    {
      "cell_type": "markdown",
      "source": [
        "#### Ordenamiento de burbuja\n",
        "Compara elementos adyacentes e intercambia aquellos que están en el orden incorrecto. Simple de entender pero ineficiente para grandes conjuntos de datos.\n",
        "<br>**Cuando usar:** Ideal para listas pequeñas o cuando se necesita encontrar el k-ésimo elemento más pequeño (k-ésimo estadístico)."
      ],
      "metadata": {
        "id": "B0XZKCQ0tBnD"
      }
    },
    {
      "cell_type": "code",
      "source": [
        "import random\n",
        "import timeit\n",
        "\n",
        "def bubble_sort(arr):\n",
        "    n = len(arr)\n",
        "    for i in range(n):\n",
        "        for j in range(0, n - i - 1):\n",
        "            if arr[j] > arr[j + 1]:\n",
        "                arr[j], arr[j + 1] = arr[j + 1], arr[j]\n",
        "\n",
        "# Generar una lista aleatoria de tamaño 1000\n",
        "data = [random.randint(1, 1000) for _ in range(10000)]\n",
        "\n",
        "data_little = [5,4,23,2,1,45,212,32,54]\n",
        "\n",
        "# Medir el tiempo de ejecución para grandes sets de datos\n",
        "start_time = timeit.default_timer()\n",
        "bubble_sort(data_little)\n",
        "end_time = timeit.default_timer()\n",
        "print(\"Tiempo de ejecución para lista pequeña:\", end_time - start_time, \"segundos\")\n",
        "\n",
        "# Medir el tiempo de ejecución para grandes sets de datos\n",
        "start_time = timeit.default_timer()\n",
        "bubble_sort(data)\n",
        "end_time = timeit.default_timer()\n",
        "\n",
        "print(\"Tiempo de ejecución para lista grande:\", end_time - start_time, \"segundos\")"
      ],
      "metadata": {
        "colab": {
          "base_uri": "https://localhost:8080/"
        },
        "id": "HJCsYUz0tOs2",
        "outputId": "8aa65832-a153-409c-d7bf-b639babef1c1"
      },
      "execution_count": null,
      "outputs": [
        {
          "output_type": "stream",
          "name": "stdout",
          "text": [
            "Tiempo de ejecución para lista pequeña: 0.0001388059999953839 segundos\n",
            "Tiempo de ejecución para lista grande: 4.957189252000262 segundos\n"
          ]
        }
      ]
    },
    {
      "cell_type": "markdown",
      "source": [
        "Como podemos observar este proceso funciona bien para listas pequeñas pero cuando el tamaño de los datos crece, la eficiencia decae."
      ],
      "metadata": {
        "id": "pCaySuCxt-Ux"
      }
    },
    {
      "cell_type": "markdown",
      "source": [
        "### **Complejidad temporal**:\n",
        "\n",
        "* **Peor caso**: O(n²), donde n es el número de elementos en la lista. Esto ocurre cuando la lista está en orden inverso.\n",
        "\n",
        "* **Mejor caso:** O(n), cuando la lista ya está ordenada (con una optimización que detecta si no hubo intercambios).\n",
        "\n",
        "* **Caso promedio:** O(n²)."
      ],
      "metadata": {
        "id": "zS5Kue34Sg48"
      }
    },
    {
      "cell_type": "markdown",
      "source": [
        "###Inserción:\n",
        "Construye una lista ordenada insertando cada elemento en su posición correcta. Eficiente para listas pequeñas y casi ordenadas.\n",
        "<br>El algoritmo construye una parte ordenada de la lista uno por uno, insertando cada elemento en su posición correcta."
      ],
      "metadata": {
        "id": "AViPZ5XZu8Xe"
      }
    },
    {
      "cell_type": "code",
      "source": [
        "import random\n",
        "import timeit\n",
        "\n",
        "def insertion_sort(arr):\n",
        "  for i in range(1, len(arr)):\n",
        "    key = arr[i]\n",
        "    j = i-1\n",
        "    while j >=0 and key < arr[j] :\n",
        "        arr[j+1] = arr[j]\n",
        "        j -= 1\n",
        "    arr[j+1] = key\n",
        "\n",
        "def generate_random_list(size):\n",
        "  return [random.randint(1, 1000) for _ in range(size)]\n",
        "\n",
        "# Lista aleatoria\n",
        "random_list = generate_random_list(10000)\n",
        "\n",
        "# Lista no aleatoria\n",
        "lista = [5,4,23,2,1,45,212,32,54]\n",
        "\n",
        "# Medir tiempo para la lista ordenada\n",
        "start_time = timeit.default_timer()\n",
        "insertion_sort(lista.copy())\n",
        "end_time = timeit.default_timer()\n",
        "print(\"Tiempo para lista pequeña:\", end_time - start_time)\n",
        "\n",
        "# Medir tiempo para la lista aleatoria\n",
        "start_time = timeit.default_timer()\n",
        "insertion_sort(random_list.copy())\n",
        "end_time = timeit.default_timer()\n",
        "print(\"Tiempo para lista grande:\", end_time - start_time)\n"
      ],
      "metadata": {
        "colab": {
          "base_uri": "https://localhost:8080/"
        },
        "id": "8Xhp96IFvgIN",
        "outputId": "61504da4-79d6-4e55-987f-e9b0ec547e7c"
      },
      "execution_count": null,
      "outputs": [
        {
          "output_type": "stream",
          "name": "stdout",
          "text": [
            "Tiempo para lista pequeña: 7.70110000303248e-05\n",
            "Tiempo para lista grande: 2.218089654999858\n"
          ]
        }
      ]
    },
    {
      "cell_type": "markdown",
      "source": [
        "### **Complejidad temporal**:\n",
        "\n",
        "  * **Peor caso**:  O(n²), cuando la lista está en orden inverso.\n",
        "\n",
        "  * **Mejor caso**: O(n), cuando la lista ya está ordenada\n",
        "\n",
        "  * **Caso promedio**: O(n²)."
      ],
      "metadata": {
        "id": "oupm7xQ0Su7A"
      }
    },
    {
      "cell_type": "markdown",
      "source": [
        "### Selección\n",
        "El algoritmo de selección funciona encontrando el elemento más pequeño en la lista no ordenada y colocándolo en la primera posición. Luego, repite este proceso para el resto de la lista, encontrando el siguiente elemento más pequeño y colocándolo en la siguiente posición, y así sucesivamente hasta que toda la lista esté ordenada.\n",
        "Puede ser más eficiente cuando la lista está casi ordenada, ya que realiza menos comparaciones en ese caso.<br>\n",
        "**Cuando usar:** Bueno para listas pequeñas o casi ordenadas."
      ],
      "metadata": {
        "id": "rMzYbNmXwbYJ"
      }
    },
    {
      "cell_type": "code",
      "source": [
        "import random\n",
        "import timeit\n",
        "\n",
        "def selection_sort(arr):\n",
        "    n = len(arr)\n",
        "    for i in range(n):\n",
        "        # Encontrar el índice del elemento mínimo\n",
        "        min_index = i\n",
        "        for j in range(i+1, n):\n",
        "            if arr[j] < arr[min_index]:\n",
        "                min_index = j\n",
        "        # Intercambiar el elemento mínimo con el elemento actual\n",
        "        arr[i], arr[min_index] = arr[min_index], arr[i]\n",
        "\n",
        "# Lista no ordenada\n",
        "my_list = [5, 4, 23, 2, 1, 45, 212, 32, 54]\n",
        "\n",
        "# Medir tiempo para lista pequeña\n",
        "start_time = timeit.default_timer()\n",
        "selection_sort(my_list.copy())\n",
        "end_time = timeit.default_timer()\n",
        "print(\"Tiempo para una lista pequeña:\", end_time - start_time)\n",
        "\n",
        "# Medir tiempo para lista grande\n",
        "start_time = timeit.default_timer()\n",
        "selection_sort(random_list.copy())\n",
        "end_time = timeit.default_timer()\n",
        "print(\"Tiempo para una lista grande:\", end_time - start_time)"
      ],
      "metadata": {
        "colab": {
          "base_uri": "https://localhost:8080/"
        },
        "id": "GkpNY_4Hw5hD",
        "outputId": "e1c904ba-4546-4c36-c54c-ff48c7b818da"
      },
      "execution_count": null,
      "outputs": [
        {
          "output_type": "stream",
          "name": "stdout",
          "text": [
            "Tiempo para una lista pequeña: 0.0001007300002129341\n",
            "Tiempo para una lista grande: 2.2766847470002176\n"
          ]
        }
      ]
    },
    {
      "cell_type": "markdown",
      "source": [
        "### **Complejidad temporal**:\n",
        "\n",
        "  * **Peor caso**:  O(n²), ya que siempre realiza comparaciones para encontrar el mínimo.\n",
        "\n",
        "  * **Mejor caso**: O(n²), incluso si la lista está ordenada.\n",
        "\n",
        "  * **Caso promedio**: O(n²)"
      ],
      "metadata": {
        "id": "zCWeqFyGTXe-"
      }
    },
    {
      "cell_type": "markdown",
      "source": [
        "### Quicksort\n",
        "Quicksort es un algoritmo eficiente que utiliza la técnica de \"divide y vencerás\". Funciona seleccionando un elemento pivot y particionando la lista en dos sublistas: una con elementos menores que el pivot y otra con elementos mayores. Luego, se aplica Quicksort recursivamente a cada sublista.<br>\n",
        "**Cuando usar:**Generalmente es más eficiente que inserción y selección para listas grandes, especialmente cuando se implementa de manera eficiente."
      ],
      "metadata": {
        "id": "zaVSX1oGxXrQ"
      }
    },
    {
      "cell_type": "code",
      "source": [
        "def quicksort(arr):\n",
        "    if len(arr) <= 1:\n",
        "        return arr\n",
        "    else:\n",
        "        pivot = arr[0]\n",
        "        less = [x for x in arr[1:] if x <= pivot]\n",
        "        greater = [x for x in arr[1:] if x > pivot]\n",
        "        return quicksort(less) + [pivot] + quicksort(greater)\n",
        "# Lista pequeña\n",
        "my_list = [5, 4, 23, 2, 1, 45, 212, 32, 54]\n",
        "\n",
        "# Medir tiempo para lista pequeña\n",
        "start_time = timeit.default_timer()\n",
        "quicksort(my_list.copy())\n",
        "end_time = timeit.default_timer()\n",
        "print(\"Tiempo para una lista pequeña:\", end_time - start_time)\n",
        "\n",
        "# Medir tiempo para lista grande\n",
        "start_time = timeit.default_timer()\n",
        "quicksort(random_list.copy())\n",
        "end_time = timeit.default_timer()\n",
        "print(\"[QUICKSORT] Tiempo para una lista grande:\", end_time - start_time)\n",
        "\n",
        "\n",
        "# Medir tiempo para lista grande con selecion\n",
        "start_time = timeit.default_timer()\n",
        "selection_sort(random_list.copy())\n",
        "end_time = timeit.default_timer()\n",
        "print(\"[SELECTION] Tiempo para una lista grande:\", end_time - start_time)\n",
        "\n",
        "# Medir tiempo para lista grande con insertion\n",
        "start_time = timeit.default_timer()\n",
        "insertion_sort(random_list.copy())\n",
        "end_time = timeit.default_timer()\n",
        "print(\"[INSERTION] Tiempo para lista grande :\", end_time - start_time)"
      ],
      "metadata": {
        "colab": {
          "base_uri": "https://localhost:8080/"
        },
        "id": "jhKb-IDtxnpc",
        "outputId": "1cb55a64-07b0-4942-c954-71379f009318"
      },
      "execution_count": null,
      "outputs": [
        {
          "output_type": "stream",
          "name": "stdout",
          "text": [
            "Tiempo para una lista pequeña: 8.292699976664153e-05\n",
            "[QUICKSORT] Tiempo para una lista grande: 0.027665887999773986\n",
            "[SELECTION] Tiempo para una lista grande: 2.1953780479998386\n",
            "[INSERTION] Tiempo para lista grande : 2.1650194439998813\n"
          ]
        }
      ]
    },
    {
      "cell_type": "markdown",
      "source": [
        "### **Complejidad temporal**:\n",
        "\n",
        "  * **Peor caso**:  O(n²), cuando el pivote seleccionado es el menor o mayor elemento en cada partición (por ejemplo, si la lista ya está ordenada).\n",
        "\n",
        "  * **Mejor caso**:O(n log n), cuando el pivote divide la lista en dos partes aproximadamente iguales.\n",
        "\n",
        "  * **Caso promedio**: O(n log n)."
      ],
      "metadata": {
        "id": "Ru4KAB13TmAs"
      }
    },
    {
      "cell_type": "code",
      "source": [
        "# Lista pequeña\n",
        "my_list = [5, 4, 23, 2, 1, 45, 212, 32, 54]\n",
        "\n",
        "# Medir tiempo para lista pequeña con quicksort\n",
        "start_time = timeit.default_timer()\n",
        "quicksort(my_list.copy())\n",
        "end_time = timeit.default_timer()\n",
        "print(\"[QUICKSORT] Tiempo para lista pequeña:\", end_time - start_time)\n",
        "\n",
        "# Medir tiempo para lista pequeña con selección\n",
        "start_time = timeit.default_timer()\n",
        "selection_sort(my_list.copy())\n",
        "end_time = timeit.default_timer()\n",
        "print(\"[SELECTION] Tiempo para lista pequeña:\", end_time - start_time)\n",
        "\n",
        "# Medir tiempo para lista pequeña con inserción\n",
        "start_time = timeit.default_timer()\n",
        "insertion_sort(my_list.copy())\n",
        "end_time = timeit.default_timer()\n",
        "print(\"[INSERTION] Tiempo para lista pequeña:\", end_time - start_time)"
      ],
      "metadata": {
        "colab": {
          "base_uri": "https://localhost:8080/"
        },
        "id": "9Vd_YjtZzBTD",
        "outputId": "b3c43f0e-62a6-4fc2-8b35-d6f260f4036a"
      },
      "execution_count": null,
      "outputs": [
        {
          "output_type": "stream",
          "name": "stdout",
          "text": [
            "[QUICKSORT] Tiempo para lista pequeña: 7.397700028377585e-05\n",
            "[SELECTION] Tiempo para lista pequeña: 9.21159999052179e-05\n",
            "[INSERTION] Tiempo para lista pequeña: 5.678899970007478e-05\n"
          ]
        }
      ]
    },
    {
      "cell_type": "markdown",
      "source": [
        "Como podemos ver este ordenamiento es muy util para listas con una mayor cantidad de datos.\n",
        "Tener en cuenta que para listas mas pequeñas es mas eficiente usar el ordenamiento de selección o inserción"
      ],
      "metadata": {
        "id": "qu4Eeg3jydJU"
      }
    },
    {
      "cell_type": "markdown",
      "source": [
        "### Comparación entre Algoritmos de Ordenamiento\n",
        "\n",
        "| Algoritmo          | Mejor Caso | Peor Caso | Caso Promedio | Eficiencia | Uso Recomendado                     |\n",
        "|--------------------|------------|-----------|---------------|------------|-------------------------------------|\n",
        "| **Burbuja**        | O(n)       | O(n²)     | O(n²)         | Baja       | Listas pequeñas o casi ordenadas    |\n",
        "| **Selección**      | O(n²)      | O(n²)     | O(n²)         | Baja       | Listas pequeñas                    |\n",
        "| **Inserción**      | O(n)       | O(n²)     | O(n²)         | Media      | Listas pequeñas o casi ordenadas    |\n",
        "| **Quicksort**      | O(n log n) | O(n²)     | O(n log n)    | Alta       | Listas grandes (evitar peor caso)   |"
      ],
      "metadata": {
        "id": "TUoTrn6UT3Da"
      }
    }
  ]
}